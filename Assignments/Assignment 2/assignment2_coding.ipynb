{
 "cells": [
  {
   "cell_type": "markdown",
   "metadata": {},
   "source": [
    "# CSE 5819 Assignment #2\n",
    "\n",
    "**by: Aayushi Verma (uef24001)**\n",
    "\n",
    "*due: Wed 9/11/24*"
   ]
  },
  {
   "cell_type": "markdown",
   "metadata": {},
   "source": [
    "Part 2 [Programming] (20 pts) Write a .ipynb code that can run stratified partitioning on Google Colab. This code can load the Seaborn Iris dataset and split the dataset into two halves that have the same proportion of flower samples in each species as that in the full dataset. The iris dataset has three flower species: setosa, versicolor, and virginica. A stratified partition of a dataset divides data into subsets based on some data attributes (here we use the species labels) and ensure that each subset has a similar (or the same)\n",
    "proportion of data points from each category or class. (The dataset has four features: sepal_length, sepal_width, petal_length, petal_width, and one target: species.)"
   ]
  },
  {
   "cell_type": "code",
   "execution_count": null,
   "metadata": {},
   "outputs": [],
   "source": [
    "import seaborn as sns\n",
    "iris = sns.load_dataset('iris')\n",
    "iris.head()"
   ]
  }
 ],
 "metadata": {
  "language_info": {
   "name": "python"
  }
 },
 "nbformat": 4,
 "nbformat_minor": 2
}
